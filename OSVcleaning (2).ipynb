{
  "nbformat": 4,
  "nbformat_minor": 0,
  "metadata": {
    "colab": {
      "provenance": []
    },
    "kernelspec": {
      "name": "python3",
      "display_name": "Python 3"
    },
    "language_info": {
      "name": "python"
    }
  },
  "cells": [
    {
      "cell_type": "code",
      "source": [
        "from google.colab import files\n",
        "uploaded = files.upload()"
      ],
      "metadata": {
        "id": "vALAPzkc61gJ"
      },
      "execution_count": null,
      "outputs": []
    },
    {
      "cell_type": "code",
      "source": [
        "import pandas as pd\n",
        "import matplotlib.pyplot as plt\n"
      ],
      "metadata": {
        "id": "fhy2pbO2QGWk"
      },
      "execution_count": null,
      "outputs": []
    },
    {
      "cell_type": "code",
      "source": [
        "df = pd.read_excel('osv4.xlsx')"
      ],
      "metadata": {
        "id": "YvHC9bLfSy2e"
      },
      "execution_count": null,
      "outputs": []
    },
    {
      "cell_type": "code",
      "source": [
        "df.head()"
      ],
      "metadata": {
        "id": "GT_ZV3R0IMVn"
      },
      "execution_count": null,
      "outputs": []
    },
    {
      "cell_type": "code",
      "source": [
        "def convert_to_numeric(value):\n",
        "    if isinstance(value, str):\n",
        "        value = value.replace(' ', '').replace(',', '.')\n",
        "    return pd.to_numeric(value, errors='coerce')\n",
        "\n",
        "numeric_columns = ['Сальдо нач Д', 'Сальдо нач К', 'Обороты Д', 'Обороты К', 'Сальдо кон Д', 'Сальдо К']\n",
        "for column in numeric_columns:\n",
        "    df[column] = df[column].apply(convert_to_numeric)\n"
      ],
      "metadata": {
        "id": "AFekz3GIJIJe"
      },
      "execution_count": null,
      "outputs": []
    },
    {
      "cell_type": "code",
      "source": [
        "print(df.isna().sum())"
      ],
      "metadata": {
        "id": "Jsoqnil2JQz8"
      },
      "execution_count": null,
      "outputs": []
    },
    {
      "cell_type": "code",
      "source": [
        "numeric_columns = df.select_dtypes(include=['float64', 'int64']).columns\n",
        "\n",
        "df[numeric_columns] = df[numeric_columns].fillna(df[numeric_columns].mean())\n",
        "\n"
      ],
      "metadata": {
        "id": "zPqdonqMKOB6"
      },
      "execution_count": null,
      "outputs": []
    },
    {
      "cell_type": "code",
      "source": [
        "df['Наименование'] = df['Наименование'].fillna('Не указано')"
      ],
      "metadata": {
        "id": "CCRqOEQNJXA9"
      },
      "execution_count": null,
      "outputs": []
    },
    {
      "cell_type": "code",
      "source": [
        "print(df.isna().sum())\n"
      ],
      "metadata": {
        "id": "FPq5hzKdJfIt"
      },
      "execution_count": null,
      "outputs": []
    },
    {
      "cell_type": "code",
      "source": [
        "numeric_columns = df.select_dtypes(include=['float64', 'int64']).columns\n",
        "df[numeric_columns] = df[numeric_columns].fillna(df[numeric_columns].mean())\n"
      ],
      "metadata": {
        "id": "-JNP45xdLCH7"
      },
      "execution_count": null,
      "outputs": []
    },
    {
      "cell_type": "code",
      "source": [
        "print(df.isna().sum())\n"
      ],
      "metadata": {
        "id": "hZolYbB3OGd3"
      },
      "execution_count": null,
      "outputs": []
    },
    {
      "cell_type": "code",
      "source": [
        "descriptive_stats = df[['Сальдо нач Д', 'Сальдо нач К', 'Обороты Д', 'Обороты К', 'Сальдо кон Д', 'Сальдо К']].describe()\n",
        "\n",
        "print(descriptive_stats)"
      ],
      "metadata": {
        "id": "nnfsLiavOMLv"
      },
      "execution_count": null,
      "outputs": []
    },
    {
      "cell_type": "code",
      "source": [
        "pd.options.display.float_format = '{:,.2f}'.format\n",
        "df[['Сальдо нач Д', 'Сальдо нач К', 'Обороты Д', 'Обороты К', 'Сальдо кон Д', 'Сальдо К']] = df[['Сальдо нач Д', 'Сальдо нач К', 'Обороты Д', 'Обороты К', 'Сальдо кон Д', 'Сальдо К']].applymap(lambda x: f'{x:,.2f}')\n",
        "df = df.round({'Сальдо нач Д': 0, 'Сальдо нач К': 0, 'Обороты Д': 0, 'Обороты К': 0, 'Сальдо кон Д': 0, 'Сальдо К': 0})\n"
      ],
      "metadata": {
        "id": "HOfaG2t3OTlj"
      },
      "execution_count": null,
      "outputs": []
    },
    {
      "cell_type": "code",
      "source": [
        "print(descriptive_stats)"
      ],
      "metadata": {
        "id": "7cw1t0THOeMf"
      },
      "execution_count": null,
      "outputs": []
    },
    {
      "cell_type": "code",
      "source": [
        "data = {\n",
        "    'Сальдо нач Д': [43.00, 160013.55, 522535.64, 0.00, 0.00, 0.00, 0.00, 2291694.76],\n",
        "    'Сальдо нач К': [43.00, 162308.11, 884798.31, -1802525.28, 0.00, 0.00, 69510.50, 2536000.00],\n",
        "    'Обороты Д': [43.00, 20867520.00, 45872476.28, -4660167.47, 227384.50, 2317238.00, 38577646.08, 291364523.75],\n",
        "    'Обороты К': [43.00, 20870792.16, 46046080.00, -9320334.94, 100000.00, 2432716.00, 39630859.00, 291364523.75],\n",
        "    'Сальдо кон Д': [43.00, 217411.29, 590417.19, 0.00, 0.00, 0.00, 37000.00, 3091947.79],\n",
        "    'Сальдо К': [43.00, 222901.91, 1895075.40, -5676488.43, 0.00, 0.00, 147188.50, 6037903.65]\n",
        "}\n",
        "\n",
        "index = ['count', 'mean', 'std', 'min', '25%', '50%', '75%', 'max']\n",
        "\n",
        "df = pd.DataFrame(data, index=index)\n",
        "\n",
        "from IPython.display import display\n",
        "display(df)\n"
      ],
      "metadata": {
        "id": "e1Vtb71YCqwZ"
      },
      "execution_count": null,
      "outputs": []
    },
    {
      "cell_type": "code",
      "source": [
        "import pandas as pd\n",
        "import numpy as np\n",
        "from sklearn.linear_model import LinearRegression\n",
        "from sklearn.model_selection import train_test_split\n",
        "from sklearn.metrics import mean_absolute_error\n",
        "\n",
        "data = {\n",
        "    'Сальдо нач Д': [43.00, 160013.55, 522535.64, 0.00, 0.00, 0.00, 0.00, 2291694.76],\n",
        "    'Сальдо нач К': [43.00, 162308.11, 884798.31, -1802525.28, 0.00, 0.00, 69510.50, 2536000.00],\n",
        "    'Обороты Д': [43.00, 20867520.00, 45872476.28, -4660167.47, 227384.50, 2317238.00, 38577646.08, 291364523.75],\n",
        "    'Обороты К': [43.00, 20870792.16, 46046080.00, -9320334.94, 100000.00, 2432716.00, 39630859.00, 291364523.75],\n",
        "    'Сальдо кон Д': [43.00, 217411.29, 590417.19, 0.00, 0.00, 0.00, 37000.00, 3091947.79],\n",
        "    'Сальдо К': [43.00, 222901.91, 1895075.40, -5676488.43, 0.00, 0.00, 147188.50, 6037903.65]\n",
        "}\n",
        "\n",
        "index = ['count', 'mean', 'std', 'min', '25%', '50%', '75%', 'max']\n",
        "\n",
        "df = pd.DataFrame(data, index=index)\n",
        "\n",
        "X = df[['Сальдо нач Д', 'Сальдо нач К', 'Сальдо кон Д', 'Сальдо К']]\n",
        "Y = df['Обороты Д']\n",
        "\n",
        "X_train, X_test, Y_train, Y_test = train_test_split(X, Y, test_size=0.2, random_state=42)\n",
        "\n",
        "model = LinearRegression()\n",
        "\n",
        "model.fit(X_train, Y_train)\n",
        "\n",
        "Y_pred = model.predict(X_test)\n",
        "\n",
        "mae = mean_absolute_error(Y_test, Y_pred)\n",
        "print(f\"Средняя абсолютная ошибка: {mae}\")\n",
        "\n",
        "new_data = np.array([[250000, 200000, 250000, 200000]])\n",
        "forecast = model.predict(new_data)\n",
        "print(f\"Прогнозируемые обороты по дебету для новых данных: {forecast}\")\n"
      ],
      "metadata": {
        "id": "3k4R5NZ4Dusp"
      },
      "execution_count": null,
      "outputs": []
    },
    {
      "cell_type": "code",
      "source": [
        "columns_to_plot = ['Сальдо нач Д', 'Сальдо нач К', 'Обороты Д', 'Обороты К', 'Сальдо кон Д', 'Сальдо К']\n",
        "\n",
        "for column in columns_to_plot:\n",
        "    plt.figure(figsize=(8, 6))\n",
        "    df[column].hist(bins=20, edgecolor='black')\n",
        "    plt.title(f'Гистограмма: {column}')\n",
        "    plt.xlabel(column)\n",
        "    plt.ylabel('Частота')\n",
        "    plt.grid(True)\n",
        "    plt.show()"
      ],
      "metadata": {
        "id": "QhETdHioOjfN"
      },
      "execution_count": null,
      "outputs": []
    },
    {
      "cell_type": "code",
      "source": [],
      "metadata": {
        "id": "HaKsKRz6TFyd"
      },
      "execution_count": null,
      "outputs": []
    }
  ]
}