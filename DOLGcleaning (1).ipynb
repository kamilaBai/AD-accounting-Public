{
  "cells": [
    {
      "cell_type": "code",
      "source": [
        "from google.colab import drive\n",
        "drive.mount('/content/drive')"
      ],
      "metadata": {
        "id": "Vm58p4u87zcI"
      },
      "execution_count": null,
      "outputs": []
    },
    {
      "cell_type": "code",
      "execution_count": null,
      "metadata": {
        "id": "SRD1TLml3a3K"
      },
      "outputs": [],
      "source": [
        "import pandas as pd\n",
        "import numpy as np\n",
        "import matplotlib.pyplot as plt\n",
        "import seaborn as sns\n",
        "\n",
        "dolg_df = pd.read_excel('/content/drive/My Drive/dolg.xlsx')\n",
        "dolgnam_df = pd.read_excel('/content/drive/My Drive/dolgnam.xlsx')\n",
        "osv4_df = pd.read_excel('/content/drive/My Drive/osv.xlsx')\n",
        "\n",
        "print(dolg_df.head())\n",
        "print(dolgnam_df.head())\n",
        "print(osv4_df.head())"
      ]
    },
    {
      "cell_type": "code",
      "execution_count": null,
      "metadata": {
        "id": "J2vz6bCA4HJB"
      },
      "outputs": [],
      "source": [
        "dolg_df = dolg_df.dropna(how='all', axis=0)\n",
        "dolg_df = dolg_df.dropna(how='all', axis=1)\n",
        "\n",
        "dolg_df['Обороты Д'] = pd.to_numeric(dolg_df['Обороты Д'], errors='coerce')\n",
        "dolg_df['Обороты К'] = pd.to_numeric(dolg_df['Обороты К'], errors='coerce')\n",
        "\n",
        "print(dolg_df.head())\n"
      ]
    },
    {
      "cell_type": "code",
      "execution_count": null,
      "metadata": {
        "id": "lBYg1g9s3hdx"
      },
      "outputs": [],
      "source": [
        "dolgnam_df = dolgnam_df.dropna(how='all', axis=0)\n",
        "dolgnam_df = dolgnam_df.dropna(how='all', axis=1)\n",
        "\n",
        "dolgnam_df['Обороты Д'] = pd.to_numeric(dolgnam_df['Обороты Д'], errors='coerce')\n",
        "dolgnam_df['Обороты К'] = pd.to_numeric(dolgnam_df['Обороты К'], errors='coerce')\n",
        "\n",
        "print(dolgnam_df.head())\n"
      ]
    },
    {
      "cell_type": "code",
      "source": [
        "osv4_df = osv4_df.dropna(how='all', axis=0)\n",
        "osv4_df = osv4_df.dropna(how='all', axis=1)\n",
        "\n",
        "osv4_df['Обороты Д'] = pd.to_numeric(osv4_df['Обороты Д'], errors='coerce')\n",
        "osv4_df['Обороты К'] = pd.to_numeric(osv4_df['Обороты К'], errors='coerce')\n",
        "\n",
        "print(osv4_df.head())"
      ],
      "metadata": {
        "id": "uApVEw5gmPOw"
      },
      "execution_count": null,
      "outputs": []
    },
    {
      "cell_type": "code",
      "source": [
        "print(dolg_df.isnull().sum())\n",
        "print(dolg_df.dtypes)"
      ],
      "metadata": {
        "id": "kcut73iZmXX8"
      },
      "execution_count": null,
      "outputs": []
    },
    {
      "cell_type": "code",
      "source": [
        "print(dolgnam_df.isnull().sum())\n",
        "print(dolgnam_df.dtypes)"
      ],
      "metadata": {
        "id": "AWSvPVXlmcSe"
      },
      "execution_count": null,
      "outputs": []
    },
    {
      "cell_type": "code",
      "source": [
        "print(osv4_df.isnull().sum())\n",
        "print(osv4_df.dtypes)"
      ],
      "metadata": {
        "id": "oj8-n1IcmdqD"
      },
      "execution_count": null,
      "outputs": []
    },
    {
      "cell_type": "code",
      "source": [
        "numerical_columns = dolg_df.select_dtypes(include=[np.number]).columns\n",
        "dolgnam_df[numerical_columns] = dolgnam_df[numerical_columns].fillna(dolgnam_df[numerical_columns].median())\n",
        "\n",
        "numerical_columns_osv4 = osv4_df.select_dtypes(include=[np.number]).columns\n",
        "osv4_df[numerical_columns_osv4] = osv4_df[numerical_columns_osv4].fillna(osv4_df[numerical_columns_osv4].median())\n",
        "\n",
        "dolgnam_df['Договоры'] = dolgnam_df['Договоры'].fillna('Не указан')\n",
        "osv4_df['Наименование'] = osv4_df['Наименование'].fillna('Не указано')\n",
        "\n",
        "print(dolgnam_df.isnull().sum())\n",
        "print(osv4_df.isnull().sum())\n"
      ],
      "metadata": {
        "id": "yAGvSmuvnD7j"
      },
      "execution_count": null,
      "outputs": []
    },
    {
      "cell_type": "code",
      "source": [
        "osv4_df.head()"
      ],
      "metadata": {
        "id": "mTu_ggsKnWhr"
      },
      "execution_count": null,
      "outputs": []
    },
    {
      "cell_type": "code",
      "source": [
        "dolg_df.to_csv('/content/drive/My Drive/dolg_cleaned.csv', index=False)\n",
        "dolgnam_df.to_csv('/content/drive/My Drive/dolgnam_cleaned.csv', index=False)\n",
        "osv4_df.to_csv('/content/drive/My Drive/osv4_cleaned.csv', index=False)"
      ],
      "metadata": {
        "id": "Z7I7sp-AnosC"
      },
      "execution_count": null,
      "outputs": []
    },
    {
      "cell_type": "code",
      "source": [
        "from google.colab import files\n",
        "\n",
        "files.download('/content/drive/My Drive/dolg_cleaned.csv')\n",
        "files.download('/content/drive/My Drive/dolgnam_cleaned.csv')\n",
        "files.download('/content/drive/My Drive/osv4_cleaned.csv')"
      ],
      "metadata": {
        "id": "2w_Lmvnwopdf"
      },
      "execution_count": null,
      "outputs": []
    }
  ],
  "metadata": {
    "colab": {
      "provenance": []
    },
    "kernelspec": {
      "display_name": "Python 3",
      "name": "python3"
    },
    "language_info": {
      "name": "python"
    }
  },
  "nbformat": 4,
  "nbformat_minor": 0
}